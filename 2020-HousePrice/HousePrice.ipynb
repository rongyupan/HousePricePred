{
 "cells": [
  {
   "cell_type": "code",
   "execution_count": null,
   "metadata": {},
   "outputs": [],
   "source": [
    "import pandas as pd \n",
    "import numpy as np \n",
    "import matplotlib.pyplot as plot\n",
    "from sklearn import linear_model\n",
    "from sklearn import metrics\n",
    "\n",
    "CSV_PATH = \"./transactions.csv\"\n",
    "df = pd.read_csv(CSV_PATH)\n",
    "\n",
    "# Agency_0: 0\n",
    "# Agency_1: 2,3,5\n",
    "# Agency_2: 1,4"
   ]
  },
  {
   "cell_type": "code",
   "execution_count": null,
   "metadata": {},
   "outputs": [],
   "source": [
    "# Task 1\n",
    "agt = df['AgentId'].value_counts()\n",
    "\n",
    "sum_agc = [agt[0],agt[2]+agt[3]+agt[5],agt[1]+agt[4]]\n",
    "\n",
    "Agency = {'Agency Name':[\"Other\",\"Your Estate\",\"Lovely Housing\"],\\\n",
    "        'Numbers':[sum_agc[0],sum_agc[1],sum_agc[2]]}\n",
    "\n",
    "res_1 = pd.DataFrame(Agency)\n",
    "res_1.sort_values(\"Numbers\", ascending=False)"
   ]
  },
  {
   "cell_type": "code",
   "execution_count": null,
   "metadata": {},
   "outputs": [],
   "source": [
    "# Task 2\n",
    "df_2= df[['AgentId', 'Y house price of unit area']]\n",
    "mean = []\n",
    "for i in range(6):\n",
    "    mean.append(df_2[df_2['AgentId'] == i]['Y house price of unit area'].mean())\n",
    "\n",
    "# round mean price\n",
    "for i in range(len(mean)):\n",
    "    mean[i] = round(mean[i], 1)\n",
    "\n",
    "Agent={'AgentId':[i for i in range(6)], \\\n",
    "        'Mean Price':mean}\n",
    "res_2 = pd.DataFrame(Agent)\n",
    "res_2.sort_values('Mean Price', ascending=False)"
   ]
  },
  {
   "cell_type": "code",
   "execution_count": null,
   "metadata": {},
   "outputs": [],
   "source": [
    "# Task 3\n",
    "df_3 = df[['AgentId','X1 transaction date','Y house price of unit area']]\n",
    "\n",
    "# choose Agency\n",
    "df_3_a0 = df_3[(df_3['AgentId']==0)]\n",
    "df_3_a1 = df_3[(df_3['AgentId']==2) | (df_3['AgentId']==3) | (df_3['AgentId']==5)]\n",
    "df_3_a2 = df_3[(df_3['AgentId']==1) | (df_3['AgentId']==4)]\n",
    "\n",
    "# Year mean\n",
    "mean_2012=round(df_3[df_3['X1 transaction date']<2013]['Y house price of unit area'].mean(), 1)\n",
    "mean_2013=round(df_3[df_3['X1 transaction date']>=2013]['Y house price of unit area'].mean(), 1)\n",
    "\n",
    "# Agency mean\n",
    "mean_a0_2012=round(df_3_a0[df_3_a0['X1 transaction date']<2013]['Y house price of unit area'].mean(),1)\n",
    "mean_a0_2013=round(df_3_a0[df_3_a0['X1 transaction date']>=2013]['Y house price of unit area'].mean(),1)\n",
    "\n",
    "mean_a1_2012=round(df_3_a1[df_3_a1['X1 transaction date']<2013]['Y house price of unit area'].mean(),1)\n",
    "mean_a1_2013=round(df_3_a1[df_3_a1['X1 transaction date']>=2013]['Y house price of unit area'].mean(),1)\n",
    "\n",
    "mean_a2_2012=round(df_3_a2[df_3_a2['X1 transaction date']<2013]['Y house price of unit area'].mean(),1)\n",
    "mean_a2_2013=round(df_3_a2[df_3_a2['X1 transaction date']>=2013]['Y house price of unit area'].mean(),1)\n",
    "\n",
    "table_vals={\"Year Mean Price\": [mean_2012, mean_2013], \\\n",
    "            \"Agency_0\": [mean_a0_2012, mean_a0_2013], \\\n",
    "            \"Agency_1\": [mean_a1_2012, mean_a1_2013], \\\n",
    "            \"Agency_2\": [mean_a2_2012, mean_a2_2013]}\n",
    "\n",
    "res_3 = pd.DataFrame(table_vals)\n",
    "res_3.index = ['2012', '2013']\n",
    "res_3"
   ]
  },
  {
   "cell_type": "code",
   "execution_count": null,
   "metadata": {},
   "outputs": [],
   "source": [
    "# Task 4\n",
    "res_3.plot(kind='bar', alpha=0.7)"
   ]
  },
  {
   "cell_type": "code",
   "execution_count": null,
   "metadata": {},
   "outputs": [],
   "source": [
    "# Task 5\n",
    "df_5 = df\n",
    "corr_matrix = df_5.corr()\n",
    "corr_matrix['Y house price of unit area'].sort_values()"
   ]
  },
  {
   "cell_type": "markdown",
   "metadata": {},
   "source": [
    "## From this result, we choose X2,X3,X4,X5,X6 as X"
   ]
  },
  {
   "cell_type": "code",
   "execution_count": null,
   "metadata": {},
   "outputs": [],
   "source": [
    "# split sets\n",
    "from sklearn.model_selection import train_test_split\n",
    "\n",
    "df_5 = df.drop(['AgentId', 'X1 transaction date'], axis=1)\n",
    "\n",
    "data_x = df_5.drop('Y house price of unit area', axis=1)\n",
    "data_y = df_5[['Y house price of unit area']]\n",
    "train_x, test_x, train_y, test_y = train_test_split(data_x, data_y, test_size=0.2)"
   ]
  },
  {
   "cell_type": "code",
   "execution_count": null,
   "metadata": {},
   "outputs": [],
   "source": [
    "# Task 6\n",
    "# Linear Regeression\n",
    "LR_reg = linear_model.LinearRegression()\n",
    "LR_reg.fit(train_x, train_y)\n",
    "print(\"LR:\", LR_reg.coef_, LR_reg.intercept_)\n",
    "\n",
    "# Test\n",
    "preds = LR_reg.predict(test_x)\n",
    "mse = metrics.mean_squared_error(test_y, preds)\n",
    "mae = metrics.mean_absolute_error(test_y, preds)\n",
    "mape = np.mean(np.abs((preds-test_y)/test_y))*100\n",
    "print(mse, mae, mape)"
   ]
  },
  {
   "cell_type": "code",
   "execution_count": null,
   "metadata": {},
   "outputs": [],
   "source": [
    "# Ridge Regression\n",
    "# This model is better than Ridge\n",
    "model_ridge =linear_model.Ridge(alpha = .5)\n",
    "model_ridge.fit(train_x,train_y)\n",
    "print(\"RR:\", model_ridge.coef_, model_ridge.intercept_)\n",
    "\n",
    "# Test\n",
    "preds_ridge = model_ridge.predict(test_x)\n",
    "mse_ridge = metrics.mean_squared_error(test_y, preds_ridge)\n",
    "mae_ridge = metrics.mean_absolute_error(test_y, preds_ridge)\n",
    "mape_ridge = np.mean(np.abs((preds_ridge-test_y)/test_y))*100\n",
    "print(mse_ridge, mae_ridge, mape_ridge)"
   ]
  },
  {
   "cell_type": "code",
   "execution_count": null,
   "metadata": {},
   "outputs": [],
   "source": [
    "# Task 7\n",
    "plot.figure('model')\n",
    "plot.plot(test_y, preds, '.')\n",
    "plot.plot([test_y.min(), test_y.max()], [test_y.min(), test_y.max()], 'k--', lw =2)\n",
    "plot.scatter(test_y, preds)\n",
    "plot.show()"
   ]
  },
  {
   "cell_type": "markdown",
   "metadata": {},
   "source": [
    "如上图所示，蓝点的横坐标是实际值，纵坐标是预测值。\n",
    "\n",
    "1. 如果蓝点位于黑色虚线的下方，代表实际值>预测值；\n",
    "2. 如果蓝点位于黑色虚线的上方，代表实际值<预测值，\n",
    "3. 如果蓝点位于黑色虚线上，代表实际值=预测值\n",
    "\n",
    "Q1: Is your model overfitting? \n",
    "\n",
    "如上图所示，大部分点不在黑色虚线上，也就是训练集和预测集之间有一定差距，所以不是过拟合(overfitting)\n",
    "\n",
    "Q2: Is your model underfitting?\n",
    "\n",
    "使用线性回归模型，大部分点在黑色虚线附近，但是有个别点差距较大。但是由于数据集数量过少，所以很难说是否为欠拟合。"
   ]
  }
 ],
 "metadata": {
  "language_info": {
   "codemirror_mode": {
    "name": "ipython",
    "version": 3
   },
   "file_extension": ".py",
   "mimetype": "text/x-python",
   "name": "python",
   "nbconvert_exporter": "python",
   "pygments_lexer": "ipython3",
   "version": "3.7.6-final"
  },
  "orig_nbformat": 2,
  "kernelspec": {
   "name": "tf-gpu",
   "display_name": "Python(tf-gpu)"
  }
 },
 "nbformat": 4,
 "nbformat_minor": 2
}